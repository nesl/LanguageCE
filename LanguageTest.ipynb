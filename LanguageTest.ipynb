{
 "cells": [
  {
   "cell_type": "code",
   "execution_count": 46,
   "id": "04ed143c-dcd4-4172-9390-ac1fc781fdbc",
   "metadata": {
    "tags": []
   },
   "outputs": [],
   "source": [
    "%reload_ext autoreload\n",
    "%autoreload 2\n",
    "from ce_builder import sensor_event_stream, watchbox, spatialEvent, \\\n",
    "    ce_and, ce_until, ce_follows, event_compile, complexEvent, Event\n",
    "import time\n",
    "import os"
   ]
  },
  {
   "cell_type": "code",
   "execution_count": 27,
   "id": "41f5728a-e674-442a-8ba3-6f651c4b8c3e",
   "metadata": {
    "tags": []
   },
   "outputs": [],
   "source": [
    "import json\n",
    "data_file = open(\"complex_results.json\", \"r\")\n",
    "json_results = json.load(data_file)\n",
    "data_file.close()\n",
    "\n",
    "def get_data(frame_index):\n",
    "    data = []\n",
    "    \n",
    "    for x in json_results:\n",
    "        if x['time'] == frame_index:\n",
    "            data.append(x)\n",
    "    return data\n",
    "    "
   ]
  },
  {
   "cell_type": "code",
   "execution_count": 5,
   "id": "e7473f59-4aa2-4a42-9f74-7cd1d9a43681",
   "metadata": {
    "tags": []
   },
   "outputs": [],
   "source": [
    "import multiprocessing\n",
    "def execute_visualization():\n",
    "    os.system(\"python visualize.py\")"
   ]
  },
  {
   "cell_type": "code",
   "execution_count": 47,
   "id": "382b1b85-6a2c-439e-873a-f6e5c1c13770",
   "metadata": {
    "tags": []
   },
   "outputs": [
    {
     "name": "stdout",
     "output_type": "stream",
     "text": [
      "Event ev11a occurred at frame 652\n",
      "Event ev11b occurred at frame 799\n",
      "Event ev11c1 occurred at frame 897\n",
      "Event ev11c2 occurred at frame 983\n"
     ]
    }
   ],
   "source": [
    "# CE1\n",
    "\n",
    "# First, initialize our complex event\n",
    "ce1 = complexEvent()\n",
    "# Set up our watchboxes\n",
    "ce1.addWatchbox(\"bridgewatchbox1 = watchbox('camera3', positions=[213,274,772,772], id=0)\")\n",
    "ce1.addWatchbox(\"bridgewatchbox2 = watchbox('camera3', positions=[816,366,1200,725], id=1)\")\n",
    "ce1.addWatchbox(\"bridgewatchbox3 = watchbox('camera3', positions=[1294,290,1881,765], id=2)\")\n",
    "\n",
    "# Now we set up the atomic events\n",
    "\n",
    "# First, four vehicles approach the bridge from one side\n",
    "ev11a = Event(\"bridgewatchbox1.composition(at=0, model='rec_vehicle').size==4 and bridgewatchbox1.composition(at=1, model='rec_vehicle').size!=4\")\n",
    "\n",
    "# Next, we have two vehicles on either side of the bridge\n",
    "ev11b = Event( \"bridgewatchbox1.composition(at=0, model='rec_vehicle').size==2 and bridgewatchbox3.composition(at=0, model='rec_vehicle').size==2\" )\n",
    "\n",
    "# Then we have two vehicles exit watchbox 3\n",
    "ev11c1 = Event( \"bridgewatchbox3.composition(at=1, model='rec_vehicle').size==2 and bridgewatchbox3.composition(at=0, model='rec_vehicle').size==0\" )\n",
    "#  Possible transitions 2-1-0, or 2-0 - two possible sequences have to be considered and either can be true\n",
    "\n",
    "# And then two vehicles show up in watchbox 1\n",
    "ev11c2 = Event( \"bridgewatchbox1.composition(at=0, model='rec_vehicle').size==4 and bridgewatchbox1.composition(at=1, model='rec_vehicle').size!=4\" )\n",
    "\n",
    "# And finally we add these events together\n",
    "ce1.addEventSequence([ ev11a, ev11b, ev11c1, ev11c2 ])\n",
    "\n",
    "# Run a visualization\n",
    "# multiprocessing.Process(target=execute_visualization).start()\n",
    "# time.sleep(1.5) # Visualization takes some time to set up\n",
    "\n",
    "# Now we can iterate through some frames\n",
    "for frame_index in range(0, 60*30):\n",
    "    \n",
    "    # Parse our result data, and display it at the correct frame index\n",
    "    incoming_data = get_data(frame_index)\n",
    "    if incoming_data:\n",
    "        \n",
    "        #### RUN OUR EVALUATION ON THE EVENT ANYTIME WE GET NEW DATA\n",
    "        \n",
    "        ce1.update(incoming_data)\n",
    "        \n",
    "        event_occurred, event_name = ce1.evaluate()\n",
    "        if event_occurred:\n",
    "            print(\"Event %s occurred at frame %d\" %(event_name, frame_index))\n",
    "        \n",
    "    \n",
    "    # time.sleep(1/30)\n",
    "\n",
    "\n",
    "\n"
   ]
  },
  {
   "cell_type": "code",
   "execution_count": null,
   "id": "3247bad1-cb36-45e4-8bae-5bcdf0d5bfe8",
   "metadata": {},
   "outputs": [],
   "source": []
  }
 ],
 "metadata": {
  "kernelspec": {
   "display_name": "Python 3 (ipykernel)",
   "language": "python",
   "name": "python3"
  },
  "language_info": {
   "codemirror_mode": {
    "name": "ipython",
    "version": 3
   },
   "file_extension": ".py",
   "mimetype": "text/x-python",
   "name": "python",
   "nbconvert_exporter": "python",
   "pygments_lexer": "ipython3",
   "version": "3.8.10"
  }
 },
 "nbformat": 4,
 "nbformat_minor": 5
}
