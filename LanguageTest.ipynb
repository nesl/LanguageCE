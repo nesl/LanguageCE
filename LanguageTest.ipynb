{
 "cells": [
  {
   "cell_type": "code",
   "execution_count": 44,
   "id": "04ed143c-dcd4-4172-9390-ac1fc781fdbc",
   "metadata": {
    "tags": []
   },
   "outputs": [],
   "source": [
    "%reload_ext autoreload\n",
    "%autoreload 2\n",
    "from ce_builder import sensor_event_stream, watchbox, obj_group, spatialEvent, \\\n",
    "    ce_and, ce_until, ce_follows, event_compile\n",
    "import time\n",
    "import os"
   ]
  },
  {
   "cell_type": "code",
   "execution_count": 45,
   "id": "41f5728a-e674-442a-8ba3-6f651c4b8c3e",
   "metadata": {
    "tags": []
   },
   "outputs": [],
   "source": [
    "import json\n",
    "data_file = open(\"complex_results.json\", \"r\")\n",
    "json_results = json.load(data_file)\n",
    "data_file.close()\n",
    "\n",
    "def get_data(frame_index):\n",
    "    data = []\n",
    "    \n",
    "    for x in json_results:\n",
    "        if x['time'] == frame_index:\n",
    "            data.append(x)\n",
    "    return data\n",
    "    "
   ]
  },
  {
   "cell_type": "code",
   "execution_count": 46,
   "id": "e7473f59-4aa2-4a42-9f74-7cd1d9a43681",
   "metadata": {
    "tags": []
   },
   "outputs": [],
   "source": [
    "import multiprocessing\n",
    "def execute_visualization():\n",
    "    os.system(\"python visualize.py\")"
   ]
  },
  {
   "cell_type": "code",
   "execution_count": 47,
   "id": "382b1b85-6a2c-439e-873a-f6e5c1c13770",
   "metadata": {
    "tags": []
   },
   "outputs": [
    {
     "name": "stdout",
     "output_type": "stream",
     "text": [
      "bridgewatchbox1.composition(at=0, model=\"rec_vehicle\")==4 and bridgewatchbox1.composition(at=1, model=\"rec_vehicle\")!=4\n"
     ]
    },
    {
     "name": "stderr",
     "output_type": "stream",
     "text": [
      "qt.qpa.xcb: QXcbConnection: XCB error: 148 (Unknown), sequence: 218, resource id: 0, major code: 140 (Unknown), minor code: 20\n"
     ]
    },
    {
     "name": "stdout",
     "output_type": "stream",
     "text": [
      "Event ev2 occurred at frame 637\n"
     ]
    }
   ],
   "source": [
    "# CE 1.1.a\n",
    "#  Four recce vehicles move toward a bridge\n",
    "#   What this really means is that 4 recce vehicles enters a watchbox near the bridge.\n",
    "\n",
    "# This creates a group of rec vehicles\n",
    "# rec_group_composition = {\"rec_vehicle\":4}\n",
    "# This gets the sensor named \"camera1\" (in our case should refer to a video stream id)\n",
    "# bridge_camera = sensor_event_stream(\"camera1\")\n",
    "bridgewatchbox1 = watchbox(\"camera3\", positions=[213,274,772,772], id=0)\n",
    "bridgewatchbox2 = watchbox(\"camera3\", positions=[816,366,1200,725], id=1)\n",
    "bridgewatchbox3 = watchbox(\"camera3\", positions=[1294,290,1881,765], id=2)\n",
    "\n",
    "#  Now we set up the composition requirement\n",
    "# ev1 = bridgewatchbox.composition(at=0, model=\"rec_vehicle\")==5\n",
    "ev2 = bridgewatchbox1.composition(at=0, model=\"rec_vehicle\")==4 and bridgewatchbox1.composition(at=1, model=\"rec_vehicle\")!=4\n",
    "ev2 = Event(\"bridgewatchbox1.composition(at=0, model=\"rec_vehicle\")==4 and bridgewatchbox1.composition(at=1, model=\"rec_vehicle\")!=4\")\n",
    "# Then we 'compile' every event, which really just creates an 'executable' event\n",
    "event_to_run = event_compile(ev2)\n",
    "\n",
    "# Run a visualization\n",
    "multiprocessing.Process(target=execute_visualization).start()\n",
    "time.sleep(1.5) # Visualization takes some time to set up\n",
    "\n",
    "# Now we can iterate through some frames\n",
    "for i in range(0, 60*30):\n",
    "    \n",
    "    # Parse our result data, and display it at the correct frame index\n",
    "    incoming_data = get_data(i)\n",
    "    if incoming_data:\n",
    "        \n",
    "        #### RUN OUR EVALUATION ON THE EVENT ANYTIME WE GET NEW DATA\n",
    "        \n",
    "        event_to_run.update(incoming_data)\n",
    "        if event_to_run.evaluate():\n",
    "            print(\"Event %s occurred at frame %d\" %(event_to_run.event_name, i))\n",
    "            break\n",
    "        \n",
    "        \n",
    "    \n",
    "    time.sleep(1/30)\n",
    "\n",
    "\n",
    "\n"
   ]
  },
  {
   "cell_type": "code",
   "execution_count": null,
   "id": "3247bad1-cb36-45e4-8bae-5bcdf0d5bfe8",
   "metadata": {},
   "outputs": [],
   "source": []
  }
 ],
 "metadata": {
  "kernelspec": {
   "display_name": "Python 3 (ipykernel)",
   "language": "python",
   "name": "python3"
  },
  "language_info": {
   "codemirror_mode": {
    "name": "ipython",
    "version": 3
   },
   "file_extension": ".py",
   "mimetype": "text/x-python",
   "name": "python",
   "nbconvert_exporter": "python",
   "pygments_lexer": "ipython3",
   "version": "3.10.6"
  }
 },
 "nbformat": 4,
 "nbformat_minor": 5
}
