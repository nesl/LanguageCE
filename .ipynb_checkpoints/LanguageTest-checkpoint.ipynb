{
 "cells": [
  {
   "cell_type": "code",
   "execution_count": 66,
   "id": "04ed143c-dcd4-4172-9390-ac1fc781fdbc",
   "metadata": {
    "tags": []
   },
   "outputs": [],
   "source": [
    "%reload_ext autoreload\n",
    "%autoreload 2\n",
    "from ce_builder import video_stream, watchbox, obj_group, spatialEvent, ce_and, ce_until, ce_follows"
   ]
  },
  {
   "cell_type": "code",
   "execution_count": 67,
   "id": "382b1b85-6a2c-439e-873a-f6e5c1c13770",
   "metadata": {
    "tags": []
   },
   "outputs": [],
   "source": [
    "# CE 1.1.a\n",
    "#  Four recce vehicles move toward a bridge\n",
    "\n",
    "# This creates a group of rec vehicles\n",
    "rec_group_composition = {\"rec_vehicle\":4}\n",
    "recgroup = obj_group(composition=rec_group_composition)\n",
    "# This gets the sensor named \"camera1\" (in our case should refer to a video stream id)\n",
    "bridge_camera = video_stream(\"camera1\")\n",
    "bridgewatchbox = watchbox(bridge_camera, positions=[(0,0),(1,2)])\n",
    "\n",
    "\n",
    "# Now, we define the function of approaching a bridge\n",
    "#  Every relation between a group/object/watchbox creates an event\n",
    "# ce_11a = rec_group.approaches(bridge_watchbox, min_speed=\"30mph\")\n",
    "\n",
    "# ce_11a.add_constraint(rec_group.max_distance(\"100m\"))\n",
    "# There's two ways this event is false - either the group composition is wrong, or the \n",
    "#   approaching event does not happen."
   ]
  },
  {
   "cell_type": "code",
   "execution_count": 68,
   "id": "37b11926-1471-491e-a338-8a981932469d",
   "metadata": {
    "tags": []
   },
   "outputs": [
    {
     "name": "stdout",
     "output_type": "stream",
     "text": [
      "['recgroup-present-recgroup.enters(bridgewatchbox', 'recgroup-gone-recgroup.enters(bridgewatchbox']\n",
      "[{'trigger': 'recgroup-entered-recgroup.enters(bridgewatchbox', 'source': 'recgroup-gone-recgroup.enters(bridgewatchbox', 'dest': 'recgroup-present-recgroup.enters(bridgewatchbox'}, {'trigger': 'recgroup-exited-recgroup.enters(bridgewatchbox', 'source': 'recgroup-present-recgroup.enters(bridgewatchbox', 'dest': 'recgroup-gone-recgroup.enters(bridgewatchbox'}]\n"
     ]
    }
   ],
   "source": [
    "recgroup.enters(bridgewatchbox)\n",
    "recgroup.enters(bridgewatchbox)\n",
    "print(recgroup.enters(bridgewatchbox).states)\n",
    "print(recgroup.enters(bridgewatchbox).transitions)"
   ]
  },
  {
   "cell_type": "code",
   "execution_count": 69,
   "id": "7213b153-15e9-4bb1-b15b-1e2d4ff52ce7",
   "metadata": {
    "tags": []
   },
   "outputs": [
    {
     "ename": "NameError",
     "evalue": "name 'bridgecamera' is not defined",
     "output_type": "error",
     "traceback": [
      "\u001b[0;31m---------------------------------------------------------------------------\u001b[0m",
      "\u001b[0;31mNameError\u001b[0m                                 Traceback (most recent call last)",
      "Cell \u001b[0;32mIn[69], line 5\u001b[0m\n\u001b[1;32m      1\u001b[0m \u001b[38;5;66;03m# CE 1.1.b\u001b[39;00m\n\u001b[1;32m      2\u001b[0m \u001b[38;5;66;03m#  Rec vehicles split up into groups of two and position themselves on either side of the bridge\u001b[39;00m\n\u001b[1;32m      3\u001b[0m \n\u001b[1;32m      4\u001b[0m \u001b[38;5;66;03m# This is above our bridge watchbox\u001b[39;00m\n\u001b[0;32m----> 5\u001b[0m bridgeedgewatchbox1 \u001b[38;5;241m=\u001b[39m watchbox(\u001b[43mbridgecamera\u001b[49m, positions \u001b[38;5;241m=\u001b[39m[(\u001b[38;5;241m0\u001b[39m,\u001b[38;5;241m0\u001b[39m),(\u001b[38;5;241m1\u001b[39m,\u001b[38;5;241m1\u001b[39m)])\n\u001b[1;32m      6\u001b[0m \u001b[38;5;66;03m# This is below our bridge watchbox\u001b[39;00m\n\u001b[1;32m      7\u001b[0m bridgeedgewatchbox3 \u001b[38;5;241m=\u001b[39m watchbox(bridgecamera, positions \u001b[38;5;241m=\u001b[39m[(\u001b[38;5;241m0\u001b[39m,\u001b[38;5;241m0\u001b[39m),(\u001b[38;5;241m1\u001b[39m,\u001b[38;5;241m1\u001b[39m)])\n",
      "\u001b[0;31mNameError\u001b[0m: name 'bridgecamera' is not defined"
     ]
    }
   ],
   "source": [
    "# CE 1.1.b\n",
    "#  Rec vehicles split up into groups of two and position themselves on either side of the bridge\n",
    "\n",
    "# This is above our bridge watchbox\n",
    "bridgeedgewatchbox1 = watchbox(bridge_camera, positions =[(0,0),(1,1)])\n",
    "# This is below our bridge watchbox\n",
    "bridgeedgewatchbox3 = watchbox(bridge_camera, positions =[(0,0),(1,1)])\n",
    "\n",
    "# A new object group based on rec_group with the additional constraint\n",
    "#  that the new object group has members from the original rec_group\n",
    "#  and inherits other constraints (e.g. max distance 100m)\n",
    "new_rec_composition = {\"rec_vehicle\":2}\n",
    "reccepair = obj_group(composition=new_rec_composition)\n",
    "# recce_pair = rec_group.create_subgroup(num_members=2)\n",
    "\n",
    "se1 = reccepair.enters(bridgeedgewatchbox1)\n",
    "se2 = reccepair.enters(bridgeedgewatchbox3)\n",
    "# Each side of the bridge has a recce_pair\n",
    "ce11b = ce_and( [ se1, se2 ], \\\n",
    "                   time_constraints=[\"1s\", \"200s\"])\n"
   ]
  },
  {
   "cell_type": "code",
   "execution_count": 65,
   "id": "a7e29bbe-d210-4006-9203-e7ce2cf8dfb9",
   "metadata": {
    "tags": []
   },
   "outputs": [
    {
     "name": "stdout",
     "output_type": "stream",
     "text": [
      "[{'name': 'ce_11b-true-', 'children': ['recce_pair-present-bridge_edge_watchbox1', 'recce_pair-gone-bridge_edge_watchbox1', 'recce_pair-present-bridge_edge_watchbox3', 'recce_pair-gone-bridge_edge_watchbox3']}, {'name': 'ce_11b-false-', 'children': ['recce_pair-present-bridge_edge_watchbox1', 'recce_pair-gone-bridge_edge_watchbox1', 'recce_pair-present-bridge_edge_watchbox3', 'recce_pair-gone-bridge_edge_watchbox3']}]\n",
      "[{'trigger': 'ce_11b-and', 'source': 'ce_11b-false', 'dest': 'ce_11b-true'}, {'trigger': 'ce_11b-notand', 'source': 'ce_11b-true', 'dest': 'ce_11b-false'}, {'trigger': 'recce_pair-entered-bridge_edge_watchbox1', 'source': 'recce_pair-gone-bridge_edge_watchbox1', 'dest': 'recce_pair-present-bridge_edge_watchbox1'}, {'trigger': 'recce_pair-exited-bridge_edge_watchbox1', 'source': 'recce_pair-present-bridge_edge_watchbox1', 'dest': 'recce_pair-gone-bridge_edge_watchbox1'}, {'trigger': 'recce_pair-entered-bridge_edge_watchbox3', 'source': 'recce_pair-gone-bridge_edge_watchbox3', 'dest': 'recce_pair-present-bridge_edge_watchbox3'}, {'trigger': 'recce_pair-exited-bridge_edge_watchbox3', 'source': 'recce_pair-present-bridge_edge_watchbox3', 'dest': 'recce_pair-gone-bridge_edge_watchbox3'}]\n"
     ]
    },
    {
     "ename": "KeyError",
     "evalue": "'ce'",
     "output_type": "error",
     "traceback": [
      "\u001b[0;31m---------------------------------------------------------------------------\u001b[0m",
      "\u001b[0;31mKeyError\u001b[0m                                  Traceback (most recent call last)",
      "Cell \u001b[0;32mIn[65], line 3\u001b[0m\n\u001b[1;32m      1\u001b[0m \u001b[38;5;28mprint\u001b[39m(ce_11b\u001b[38;5;241m.\u001b[39mstates)\n\u001b[1;32m      2\u001b[0m \u001b[38;5;28mprint\u001b[39m(ce_11b\u001b[38;5;241m.\u001b[39mtransitions)\n\u001b[0;32m----> 3\u001b[0m \u001b[43mce_11b\u001b[49m\u001b[38;5;241;43m.\u001b[39;49m\u001b[43mvisualize\u001b[49m\u001b[43m(\u001b[49m\u001b[43m)\u001b[49m\n",
      "File \u001b[0;32m~/Documents/Research/Soartech/LanguageCE/ce_builder.py:146\u001b[0m, in \u001b[0;36mcomplexEvent.visualize\u001b[0;34m(self)\u001b[0m\n\u001b[1;32m    144\u001b[0m m \u001b[38;5;241m=\u001b[39m Matter()\n\u001b[1;32m    145\u001b[0m \u001b[38;5;66;03m# without further arguments pygraphviz will be used\u001b[39;00m\n\u001b[0;32m--> 146\u001b[0m machine \u001b[38;5;241m=\u001b[39m \u001b[43mHierarchicalMachine\u001b[49m\u001b[43m(\u001b[49m\u001b[43mmodel\u001b[49m\u001b[38;5;241;43m=\u001b[39;49m\u001b[43mm\u001b[49m\u001b[43m,\u001b[49m\u001b[43m \u001b[49m\u001b[43mstates\u001b[49m\u001b[38;5;241;43m=\u001b[39;49m\u001b[38;5;28;43mself\u001b[39;49m\u001b[38;5;241;43m.\u001b[39;49m\u001b[43mstates\u001b[49m\u001b[43m,\u001b[49m\u001b[43m \u001b[49m\u001b[43m\\\u001b[49m\n\u001b[1;32m    147\u001b[0m \u001b[43m        \u001b[49m\u001b[43mtransitions\u001b[49m\u001b[38;5;241;43m=\u001b[39;49m\u001b[38;5;28;43mself\u001b[39;49m\u001b[38;5;241;43m.\u001b[39;49m\u001b[43mtransitions\u001b[49m\u001b[43m,\u001b[49m\u001b[43m \u001b[49m\u001b[43minitial\u001b[49m\u001b[38;5;241;43m=\u001b[39;49m\u001b[38;5;124;43m'\u001b[39;49m\u001b[38;5;124;43masleep\u001b[39;49m\u001b[38;5;124;43m'\u001b[39;49m\u001b[43m)\u001b[49m\n\u001b[1;32m    148\u001b[0m \u001b[38;5;66;03m# draw the whole graph ...\u001b[39;00m\n\u001b[1;32m    149\u001b[0m m\u001b[38;5;241m.\u001b[39mget_graph()\u001b[38;5;241m.\u001b[39mdraw(\u001b[38;5;124m'\u001b[39m\u001b[38;5;124mmy_state_diagram.png\u001b[39m\u001b[38;5;124m'\u001b[39m, prog\u001b[38;5;241m=\u001b[39m\u001b[38;5;124m'\u001b[39m\u001b[38;5;124mdot\u001b[39m\u001b[38;5;124m'\u001b[39m)\n",
      "File \u001b[0;32m~/Documents/Research/Soartech/venv/lib/python3.10/site-packages/transitions/extensions/nesting.py:366\u001b[0m, in \u001b[0;36mHierarchicalMachine.__init__\u001b[0;34m(self, model, states, initial, transitions, send_event, auto_transitions, ordered_transitions, ignore_invalid_triggers, before_state_change, after_state_change, name, queued, prepare_event, finalize_event, model_attribute, on_exception, **kwargs)\u001b[0m\n\u001b[1;32m    364\u001b[0m \u001b[38;5;28mself\u001b[39m\u001b[38;5;241m.\u001b[39mscoped \u001b[38;5;241m=\u001b[39m \u001b[38;5;28mself\u001b[39m\n\u001b[1;32m    365\u001b[0m \u001b[38;5;28mself\u001b[39m\u001b[38;5;241m.\u001b[39m_next_scope \u001b[38;5;241m=\u001b[39m \u001b[38;5;28;01mNone\u001b[39;00m\n\u001b[0;32m--> 366\u001b[0m \u001b[38;5;28;43msuper\u001b[39;49m\u001b[43m(\u001b[49m\u001b[43mHierarchicalMachine\u001b[49m\u001b[43m,\u001b[49m\u001b[43m \u001b[49m\u001b[38;5;28;43mself\u001b[39;49m\u001b[43m)\u001b[49m\u001b[38;5;241;43m.\u001b[39;49m\u001b[38;5;21;43m__init__\u001b[39;49m\u001b[43m(\u001b[49m\n\u001b[1;32m    367\u001b[0m \u001b[43m    \u001b[49m\u001b[43mmodel\u001b[49m\u001b[38;5;241;43m=\u001b[39;49m\u001b[43mmodel\u001b[49m\u001b[43m,\u001b[49m\u001b[43m \u001b[49m\u001b[43mstates\u001b[49m\u001b[38;5;241;43m=\u001b[39;49m\u001b[43mstates\u001b[49m\u001b[43m,\u001b[49m\u001b[43m \u001b[49m\u001b[43minitial\u001b[49m\u001b[38;5;241;43m=\u001b[39;49m\u001b[43minitial\u001b[49m\u001b[43m,\u001b[49m\u001b[43m \u001b[49m\u001b[43mtransitions\u001b[49m\u001b[38;5;241;43m=\u001b[39;49m\u001b[43mtransitions\u001b[49m\u001b[43m,\u001b[49m\n\u001b[1;32m    368\u001b[0m \u001b[43m    \u001b[49m\u001b[43msend_event\u001b[49m\u001b[38;5;241;43m=\u001b[39;49m\u001b[43msend_event\u001b[49m\u001b[43m,\u001b[49m\u001b[43m \u001b[49m\u001b[43mauto_transitions\u001b[49m\u001b[38;5;241;43m=\u001b[39;49m\u001b[43mauto_transitions\u001b[49m\u001b[43m,\u001b[49m\n\u001b[1;32m    369\u001b[0m \u001b[43m    \u001b[49m\u001b[43mordered_transitions\u001b[49m\u001b[38;5;241;43m=\u001b[39;49m\u001b[43mordered_transitions\u001b[49m\u001b[43m,\u001b[49m\u001b[43m \u001b[49m\u001b[43mignore_invalid_triggers\u001b[49m\u001b[38;5;241;43m=\u001b[39;49m\u001b[43mignore_invalid_triggers\u001b[49m\u001b[43m,\u001b[49m\n\u001b[1;32m    370\u001b[0m \u001b[43m    \u001b[49m\u001b[43mbefore_state_change\u001b[49m\u001b[38;5;241;43m=\u001b[39;49m\u001b[43mbefore_state_change\u001b[49m\u001b[43m,\u001b[49m\u001b[43m \u001b[49m\u001b[43mafter_state_change\u001b[49m\u001b[38;5;241;43m=\u001b[39;49m\u001b[43mafter_state_change\u001b[49m\u001b[43m,\u001b[49m\u001b[43m \u001b[49m\u001b[43mname\u001b[49m\u001b[38;5;241;43m=\u001b[39;49m\u001b[43mname\u001b[49m\u001b[43m,\u001b[49m\n\u001b[1;32m    371\u001b[0m \u001b[43m    \u001b[49m\u001b[43mqueued\u001b[49m\u001b[38;5;241;43m=\u001b[39;49m\u001b[43mqueued\u001b[49m\u001b[43m,\u001b[49m\u001b[43m \u001b[49m\u001b[43mprepare_event\u001b[49m\u001b[38;5;241;43m=\u001b[39;49m\u001b[43mprepare_event\u001b[49m\u001b[43m,\u001b[49m\u001b[43m \u001b[49m\u001b[43mfinalize_event\u001b[49m\u001b[38;5;241;43m=\u001b[39;49m\u001b[43mfinalize_event\u001b[49m\u001b[43m,\u001b[49m\u001b[43m \u001b[49m\u001b[43mmodel_attribute\u001b[49m\u001b[38;5;241;43m=\u001b[39;49m\u001b[43mmodel_attribute\u001b[49m\u001b[43m,\u001b[49m\n\u001b[1;32m    372\u001b[0m \u001b[43m    \u001b[49m\u001b[43mon_exception\u001b[49m\u001b[38;5;241;43m=\u001b[39;49m\u001b[43mon_exception\u001b[49m\u001b[43m,\u001b[49m\u001b[43m \u001b[49m\u001b[38;5;241;43m*\u001b[39;49m\u001b[38;5;241;43m*\u001b[39;49m\u001b[43mkwargs\u001b[49m\n\u001b[1;32m    373\u001b[0m \u001b[43m\u001b[49m\u001b[43m)\u001b[49m\n",
      "File \u001b[0;32m~/Documents/Research/Soartech/venv/lib/python3.10/site-packages/transitions/core.py:594\u001b[0m, in \u001b[0;36mMachine.__init__\u001b[0;34m(self, model, states, initial, transitions, send_event, auto_transitions, ordered_transitions, ignore_invalid_triggers, before_state_change, after_state_change, name, queued, prepare_event, finalize_event, model_attribute, on_exception, **kwargs)\u001b[0m\n\u001b[1;32m    591\u001b[0m \u001b[38;5;28mself\u001b[39m\u001b[38;5;241m.\u001b[39mmodels \u001b[38;5;241m=\u001b[39m []\n\u001b[1;32m    593\u001b[0m \u001b[38;5;28;01mif\u001b[39;00m states \u001b[38;5;129;01mis\u001b[39;00m \u001b[38;5;129;01mnot\u001b[39;00m \u001b[38;5;28;01mNone\u001b[39;00m:\n\u001b[0;32m--> 594\u001b[0m     \u001b[38;5;28;43mself\u001b[39;49m\u001b[38;5;241;43m.\u001b[39;49m\u001b[43madd_states\u001b[49m\u001b[43m(\u001b[49m\u001b[43mstates\u001b[49m\u001b[43m)\u001b[49m\n\u001b[1;32m    596\u001b[0m \u001b[38;5;28;01mif\u001b[39;00m initial \u001b[38;5;129;01mis\u001b[39;00m \u001b[38;5;129;01mnot\u001b[39;00m \u001b[38;5;28;01mNone\u001b[39;00m:\n\u001b[1;32m    597\u001b[0m     \u001b[38;5;28mself\u001b[39m\u001b[38;5;241m.\u001b[39minitial \u001b[38;5;241m=\u001b[39m initial\n",
      "File \u001b[0;32m~/Documents/Research/Soartech/venv/lib/python3.10/site-packages/transitions/extensions/nesting.py:480\u001b[0m, in \u001b[0;36mHierarchicalMachine.add_states\u001b[0;34m(self, states, on_enter, on_exit, ignore_invalid_triggers, **kwargs)\u001b[0m\n\u001b[1;32m    478\u001b[0m     \u001b[38;5;28mself\u001b[39m\u001b[38;5;241m.\u001b[39m_add_enum_state(state, on_enter, on_exit, ignore, remap, \u001b[38;5;241m*\u001b[39m\u001b[38;5;241m*\u001b[39mkwargs)\n\u001b[1;32m    479\u001b[0m \u001b[38;5;28;01melif\u001b[39;00m \u001b[38;5;28misinstance\u001b[39m(state, \u001b[38;5;28mdict\u001b[39m):\n\u001b[0;32m--> 480\u001b[0m     \u001b[38;5;28;43mself\u001b[39;49m\u001b[38;5;241;43m.\u001b[39;49m\u001b[43m_add_dict_state\u001b[49m\u001b[43m(\u001b[49m\u001b[43mstate\u001b[49m\u001b[43m,\u001b[49m\u001b[43m \u001b[49m\u001b[43mignore\u001b[49m\u001b[43m,\u001b[49m\u001b[43m \u001b[49m\u001b[43mremap\u001b[49m\u001b[43m,\u001b[49m\u001b[43m \u001b[49m\u001b[38;5;241;43m*\u001b[39;49m\u001b[38;5;241;43m*\u001b[39;49m\u001b[43mkwargs\u001b[49m\u001b[43m)\u001b[49m\n\u001b[1;32m    481\u001b[0m \u001b[38;5;28;01melif\u001b[39;00m \u001b[38;5;28misinstance\u001b[39m(state, NestedState):\n\u001b[1;32m    482\u001b[0m     \u001b[38;5;28;01mif\u001b[39;00m state\u001b[38;5;241m.\u001b[39mname \u001b[38;5;129;01min\u001b[39;00m \u001b[38;5;28mself\u001b[39m\u001b[38;5;241m.\u001b[39mstates:\n",
      "File \u001b[0;32m~/Documents/Research/Soartech/venv/lib/python3.10/site-packages/transitions/extensions/nesting.py:877\u001b[0m, in \u001b[0;36mHierarchicalMachine._add_dict_state\u001b[0;34m(self, state, ignore_invalid_triggers, remap, **kwargs)\u001b[0m\n\u001b[1;32m    875\u001b[0m new_state \u001b[38;5;241m=\u001b[39m \u001b[38;5;28mself\u001b[39m\u001b[38;5;241m.\u001b[39m_create_state(\u001b[38;5;241m*\u001b[39m\u001b[38;5;241m*\u001b[39mstate)\n\u001b[1;32m    876\u001b[0m \u001b[38;5;28mself\u001b[39m\u001b[38;5;241m.\u001b[39mstates[new_state\u001b[38;5;241m.\u001b[39mname] \u001b[38;5;241m=\u001b[39m new_state\n\u001b[0;32m--> 877\u001b[0m \u001b[38;5;28;43mself\u001b[39;49m\u001b[38;5;241;43m.\u001b[39;49m\u001b[43m_init_state\u001b[49m\u001b[43m(\u001b[49m\u001b[43mnew_state\u001b[49m\u001b[43m)\u001b[49m\n\u001b[1;32m    878\u001b[0m remapped_transitions \u001b[38;5;241m=\u001b[39m []\n\u001b[1;32m    879\u001b[0m \u001b[38;5;28;01mwith\u001b[39;00m \u001b[38;5;28mself\u001b[39m(new_state\u001b[38;5;241m.\u001b[39mname):\n",
      "File \u001b[0;32m~/Documents/Research/Soartech/venv/lib/python3.10/site-packages/transitions/extensions/nesting.py:1055\u001b[0m, in \u001b[0;36mHierarchicalMachine._init_state\u001b[0;34m(self, state)\u001b[0m\n\u001b[1;32m   1053\u001b[0m parent \u001b[38;5;241m=\u001b[39m state_name\u001b[38;5;241m.\u001b[39msplit(\u001b[38;5;28mself\u001b[39m\u001b[38;5;241m.\u001b[39mstate_cls\u001b[38;5;241m.\u001b[39mseparator, \u001b[38;5;241m1\u001b[39m)\n\u001b[1;32m   1054\u001b[0m \u001b[38;5;28;01mwith\u001b[39;00m \u001b[38;5;28mself\u001b[39m():\n\u001b[0;32m-> 1055\u001b[0m     \u001b[38;5;28;01mfor\u001b[39;00m a_state \u001b[38;5;129;01min\u001b[39;00m \u001b[38;5;28;43mself\u001b[39;49m\u001b[38;5;241;43m.\u001b[39;49m\u001b[43mget_nested_state_names\u001b[49m\u001b[43m(\u001b[49m\u001b[43m)\u001b[49m:\n\u001b[1;32m   1056\u001b[0m         \u001b[38;5;28;01mif\u001b[39;00m a_state \u001b[38;5;241m==\u001b[39m parent[\u001b[38;5;241m0\u001b[39m]:\n\u001b[1;32m   1057\u001b[0m             \u001b[38;5;28mself\u001b[39m\u001b[38;5;241m.\u001b[39madd_transition(\u001b[38;5;124m'\u001b[39m\u001b[38;5;124mto_\u001b[39m\u001b[38;5;132;01m%s\u001b[39;00m\u001b[38;5;124m'\u001b[39m \u001b[38;5;241m%\u001b[39m state_name, \u001b[38;5;28mself\u001b[39m\u001b[38;5;241m.\u001b[39mwildcard_all, state_name)\n",
      "File \u001b[0;32m~/Documents/Research/Soartech/venv/lib/python3.10/site-packages/transitions/extensions/nesting.py:532\u001b[0m, in \u001b[0;36mHierarchicalMachine.get_nested_state_names\u001b[0;34m(self)\u001b[0m\n\u001b[1;32m    530\u001b[0m \u001b[38;5;28;01mfor\u001b[39;00m state \u001b[38;5;129;01min\u001b[39;00m \u001b[38;5;28mself\u001b[39m\u001b[38;5;241m.\u001b[39mstates\u001b[38;5;241m.\u001b[39mvalues():\n\u001b[1;32m    531\u001b[0m     ordered_states\u001b[38;5;241m.\u001b[39mappend(\u001b[38;5;28mself\u001b[39m\u001b[38;5;241m.\u001b[39mget_global_name(state))\n\u001b[0;32m--> 532\u001b[0m     \u001b[38;5;28;01mwith\u001b[39;00m \u001b[38;5;28;43mself\u001b[39;49m\u001b[43m(\u001b[49m\u001b[43mstate\u001b[49m\u001b[38;5;241;43m.\u001b[39;49m\u001b[43mname\u001b[49m\u001b[43m)\u001b[49m:\n\u001b[1;32m    533\u001b[0m         ordered_states\u001b[38;5;241m.\u001b[39mextend(\u001b[38;5;28mself\u001b[39m\u001b[38;5;241m.\u001b[39mget_nested_state_names())\n\u001b[1;32m    534\u001b[0m \u001b[38;5;28;01mreturn\u001b[39;00m ordered_states\n",
      "File \u001b[0;32m~/Documents/Research/Soartech/venv/lib/python3.10/site-packages/transitions/extensions/nesting.py:378\u001b[0m, in \u001b[0;36mHierarchicalMachine.__call__\u001b[0;34m(self, to_scope)\u001b[0m\n\u001b[1;32m    376\u001b[0m \u001b[38;5;28;01mif\u001b[39;00m \u001b[38;5;28misinstance\u001b[39m(to_scope, string_types):\n\u001b[1;32m    377\u001b[0m     state_name \u001b[38;5;241m=\u001b[39m to_scope\u001b[38;5;241m.\u001b[39msplit(\u001b[38;5;28mself\u001b[39m\u001b[38;5;241m.\u001b[39mstate_cls\u001b[38;5;241m.\u001b[39mseparator)[\u001b[38;5;241m0\u001b[39m]\n\u001b[0;32m--> 378\u001b[0m     state \u001b[38;5;241m=\u001b[39m \u001b[38;5;28;43mself\u001b[39;49m\u001b[38;5;241;43m.\u001b[39;49m\u001b[43mstates\u001b[49m\u001b[43m[\u001b[49m\u001b[43mstate_name\u001b[49m\u001b[43m]\u001b[49m\n\u001b[1;32m    379\u001b[0m     to_scope \u001b[38;5;241m=\u001b[39m (state, state\u001b[38;5;241m.\u001b[39mstates, state\u001b[38;5;241m.\u001b[39mevents, \u001b[38;5;28mself\u001b[39m\u001b[38;5;241m.\u001b[39mprefix_path \u001b[38;5;241m+\u001b[39m [state_name])\n\u001b[1;32m    380\u001b[0m \u001b[38;5;28;01melif\u001b[39;00m \u001b[38;5;28misinstance\u001b[39m(to_scope, Enum):\n",
      "\u001b[0;31mKeyError\u001b[0m: 'ce'"
     ]
    }
   ],
   "source": [
    "print(ce11b.states)\n",
    "print(ce11b.transitions)\n",
    "ce11b.visualize()"
   ]
  },
  {
   "cell_type": "code",
   "execution_count": 5,
   "id": "f565ec14-ac42-43aa-b0f3-ff287c6b0a81",
   "metadata": {
    "tags": []
   },
   "outputs": [],
   "source": [
    "# CE 1.1.c\n",
    "#  One pair of recce vehicles moves to the side with the tank column\n",
    "\n",
    "ce_11c = ce_until( [ recce_pair.exits(bridge_edge_watchbox3), \\\n",
    "                   recce_pair.enters(bridge_edge_watchbox1) ],\\\n",
    "                      time_constraints=[\"0s\", \"20s\"] )\n",
    "\n",
    "# ce_11c = ce_until( [ recce_pair.exits(bridge_edge_watchbox3), \\\n",
    "#                    recce_pair.enters(bridge_edge_watchbox1) ], \\\n",
    "#                     same_entities=[recce_pair], time_constraints=[\"0s\", \"20s\"] )"
   ]
  },
  {
   "cell_type": "code",
   "execution_count": 6,
   "id": "3f307fe0-2cc6-444d-9917-119419d3b9b3",
   "metadata": {
    "tags": []
   },
   "outputs": [
    {
     "name": "stdout",
     "output_type": "stream",
     "text": [
      " [ ce_11a, ce_11b, ce_11c ] \n"
     ]
    }
   ],
   "source": [
    "# overall_ce = ce_follows( [ ce_11a, ce_11b, ce_11c ] )\n",
    "overall_ce = ce_follows( [ ce_11b, ce_11c ] )"
   ]
  },
  {
   "cell_type": "code",
   "execution_count": null,
   "id": "b7e38689-f68e-4220-8db5-d6c6f574e4d9",
   "metadata": {},
   "outputs": [],
   "source": [
    "#  Overall CE event\n",
    "\n",
    "# Basically, this states that each event should follow another.\n",
    "\n",
    "# Compile the CE into a hierarchical fsm\n",
    "compiled_ce = overall_ce.compile()\n",
    "#  Visualize the compiled FSM\n",
    "compiled_ce.visualize()"
   ]
  },
  {
   "cell_type": "code",
   "execution_count": null,
   "id": "fa2320e6-bd19-4e10-a669-b0939d57e477",
   "metadata": {},
   "outputs": [],
   "source": [
    "#  Then we can run an experiment\n",
    "compiled_ce.execute()"
   ]
  }
 ],
 "metadata": {
  "kernelspec": {
   "display_name": "Python 3 (ipykernel)",
   "language": "python",
   "name": "python3"
  },
  "language_info": {
   "codemirror_mode": {
    "name": "ipython",
    "version": 3
   },
   "file_extension": ".py",
   "mimetype": "text/x-python",
   "name": "python",
   "nbconvert_exporter": "python",
   "pygments_lexer": "ipython3",
   "version": "3.10.6"
  }
 },
 "nbformat": 4,
 "nbformat_minor": 5
}
