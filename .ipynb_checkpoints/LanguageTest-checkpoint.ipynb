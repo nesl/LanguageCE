{
 "cells": [
  {
   "cell_type": "code",
   "execution_count": 22,
   "id": "04ed143c-dcd4-4172-9390-ac1fc781fdbc",
   "metadata": {
    "tags": []
   },
   "outputs": [],
   "source": [
    "%reload_ext autoreload\n",
    "%autoreload 2\n",
    "from ce_builder import video_stream, watchbox, obj_group, spatialEvent, ce_and, ce_until, ce_follows"
   ]
  },
  {
   "cell_type": "code",
   "execution_count": 20,
   "id": "382b1b85-6a2c-439e-873a-f6e5c1c13770",
   "metadata": {
    "tags": []
   },
   "outputs": [
    {
     "name": "stdout",
     "output_type": "stream",
     "text": [
      "[]\n"
     ]
    }
   ],
   "source": [
    "# CE 1.1.a\n",
    "#  Four recce vehicles move toward a bridge\n",
    "\n",
    "# This creates a group of rec vehicles\n",
    "rec_group_composition = {\"rec_vehicle\":4}\n",
    "rec_group = obj_group(composition=rec_group_composition)\n",
    "# This gets the sensor named \"camera1\" (in our case should refer to a video stream id)\n",
    "bridge_camera = video_stream(\"camera1\")\n",
    "bridge_watchbox = watchbox(bridge_camera, positions=[(0,0),(1,2)])\n",
    "\n",
    "\n",
    "# Now, we define the function of approaching a bridge\n",
    "#  Every relation between a group/object/watchbox creates an event\n",
    "ce_11a = rec_group.approaches(bridge_watchbox, min_speed=\"30mph\")\n",
    "\n",
    "# ce_11a.add_constraint(rec_group.max_distance(\"100m\"))\n",
    "# There's two ways this event is false - either the group composition is wrong, or the \n",
    "#   approaching event does not happen."
   ]
  },
  {
   "cell_type": "code",
   "execution_count": 17,
   "id": "7213b153-15e9-4bb1-b15b-1e2d4ff52ce7",
   "metadata": {
    "tags": []
   },
   "outputs": [],
   "source": [
    "# CE 1.1.b\n",
    "#  Rec vehicles split up into groups of two and position themselves on either side of the bridge\n",
    "\n",
    "# This is above our bridge watchbox\n",
    "bridge_edge_watchbox1 = watchbox(bridge_camera, positions =[(),()])\n",
    "# This is below our bridge watchbox\n",
    "bridge_edge_watchbox3 = watchbox(bridge_camera, positions =[(),()])\n",
    "\n",
    "# A new object group based on rec_group with the additional constraint\n",
    "#  that the new object group has members from the original rec_group\n",
    "#  and inherits other constraints (e.g. max distance 100m)\n",
    "new_rec_composition = {\"rec_vehicle\":2}\n",
    "recce_pair = obj_group(composition=new_rec_composition)\n",
    "# recce_pair = rec_group.create_subgroup(num_members=2)\n",
    "\n",
    "# Each side of the bridge has a recce_pair\n",
    "ce_11b = ce_and( [ recce_pair.enters(bridge_edge_watchbox1), \\\n",
    "                    recce_pair.enters(bridge_edge_watchbox3) ], \\\n",
    "                   time_constraints=[\"1s\", \"200s\"])"
   ]
  },
  {
   "cell_type": "code",
   "execution_count": 18,
   "id": "f565ec14-ac42-43aa-b0f3-ff287c6b0a81",
   "metadata": {
    "tags": []
   },
   "outputs": [],
   "source": [
    "# CE 1.1.c\n",
    "#  One pair of recce vehicles moves to the side with the tank column\n",
    "\n",
    "ce_11c = ce_until( [ recce_pair.exits(bridge_edge_watchbox3), \\\n",
    "                   recce_pair.enters(bridge_edge_watchbox1) ],\\\n",
    "                      time_constraints=[\"0s\", \"20s\"] )\n",
    "\n",
    "# ce_11c = ce_until( [ recce_pair.exits(bridge_edge_watchbox3), \\\n",
    "#                    recce_pair.enters(bridge_edge_watchbox1) ], \\\n",
    "#                     same_entities=[recce_pair], time_constraints=[\"0s\", \"20s\"] )"
   ]
  },
  {
   "cell_type": "code",
   "execution_count": 23,
   "id": "3f307fe0-2cc6-444d-9917-119419d3b9b3",
   "metadata": {
    "tags": []
   },
   "outputs": [
    {
     "name": "stdout",
     "output_type": "stream",
     "text": [
      " [ ce_11a, ce_11b, ce_11c ] \n"
     ]
    }
   ],
   "source": [
    "overall_ce = ce_follows( [ ce_11a, ce_11b, ce_11c ] )"
   ]
  },
  {
   "cell_type": "code",
   "execution_count": null,
   "id": "b7e38689-f68e-4220-8db5-d6c6f574e4d9",
   "metadata": {},
   "outputs": [],
   "source": [
    "#  Overall CE event\n",
    "\n",
    "# Basically, this states that each event should follow another.\n",
    "\n",
    "# Compile the CE into a hierarchical fsm\n",
    "compiled_ce = overall_ce.compile()\n",
    "#  Visualize the compiled FSM\n",
    "compiled_ce.visualize()"
   ]
  },
  {
   "cell_type": "code",
   "execution_count": null,
   "id": "fa2320e6-bd19-4e10-a669-b0939d57e477",
   "metadata": {},
   "outputs": [],
   "source": [
    "#  Then we can run an experiment\n",
    "compiled_ce.execute()"
   ]
  }
 ],
 "metadata": {
  "kernelspec": {
   "display_name": "Python 3 (ipykernel)",
   "language": "python",
   "name": "python3"
  },
  "language_info": {
   "codemirror_mode": {
    "name": "ipython",
    "version": 3
   },
   "file_extension": ".py",
   "mimetype": "text/x-python",
   "name": "python",
   "nbconvert_exporter": "python",
   "pygments_lexer": "ipython3",
   "version": "3.8.10"
  }
 },
 "nbformat": 4,
 "nbformat_minor": 5
}
